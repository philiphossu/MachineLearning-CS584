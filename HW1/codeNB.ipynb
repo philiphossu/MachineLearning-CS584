{
 "cells": [
  {
   "cell_type": "code",
   "execution_count": 151,
   "metadata": {},
   "outputs": [
    {
     "name": "stdout",
     "output_type": "stream",
     "text": [
      "Loading datasets...\n",
      "Done.\n"
     ]
    }
   ],
   "source": [
    "# Programming assignment 1\n",
    "# Prereqs: all previous prereqs, plus pandas\n",
    "# Implement what is asked at the TODO section.\n",
    "# You can import additional methods/classes if you need them.\n",
    "import pandas as pd\n",
    "import pickle\n",
    "import numpy as np\n",
    "from sklearn.tree import DecisionTreeClassifier \n",
    "from sklearn.model_selection import train_test_split\n",
    "\n",
    "\n",
    "# Load Datasets\n",
    "# The “Xs” has 10 entries, each has the feature matrix of a dataset, and the “ys” has 10 entries, each has the target array.\n",
    "# The datasets are downloaded from scikit-learn or UCI machine learning repository.\n",
    "# We downloaded the datasets and \"pickle\"d them for you; you should be able to un\"pickle\" them\n",
    "# using the following code, but if pickle fails, please use the attached load_datasets code.\n",
    "\n",
    "print(\"Loading datasets...\")\n",
    "Xs = pickle.load(open('datasets_x.pkl', 'rb'))\n",
    "ys = pickle.load(open('datasets_y.pkl', 'rb'))\n",
    "print(\"Done.\")"
   ]
  },
  {
   "cell_type": "code",
   "execution_count": 152,
   "metadata": {},
   "outputs": [],
   "source": [
    "# Accuracies on the train set. Rows are datasets, columns are decision trees with depths ranging from 1 to 15.\n",
    "# Note that the arrays start with a zero index; not 1. So, the ith column should have the result of the tree that has depth (i+1).\n",
    "train_ac = np.zeros((10, 15))\n",
    "\n",
    "# Accuracies on the test set.\n",
    "test_ac = np.zeros((10, 15))"
   ]
  },
  {
   "cell_type": "code",
   "execution_count": 153,
   "metadata": {},
   "outputs": [],
   "source": [
    "############ TODO ############\n",
    "# Your task is to do the following, per dataset; tip: you might find it easier loop over datasets\n",
    "# 1. \tCreate a train_test split of your dataset Xi, yi. Use train_test_split() method from scikit-learn.\n",
    "#\t\tTest size should be set to 1./3, and random_state should set to the 4th, 5th, and 6th digits of your A# (AXXX123XX).\n",
    "# 2. \tFor a depth d, ranging from 1 to 15, inclusive,\n",
    "# 2.a\t\tCreate a decision tree of maximum depth d, and random_state set to the last 3 digits of your A# (AXXXXX123).  \n",
    "# 2.b \t\tFit the classifier to your train split.\n",
    "# 2.c\t\tCompute the score (accuracy) of the classifier on your train split; record the result in the correct position in the train_ac array\n",
    "# 2.d\t\tCompute the score (accuracy) of the classifier on your test split; record the result in the correct position in the test_ac array\n",
    "\n",
    "# For your reference\n",
    "# http://scikit-learn.org/stable/modules/generated/sklearn.model_selection.train_test_split.html\n",
    "# http://scikit-learn.org/stable/modules/generated/sklearn.tree.DecisionTreeClassifier.html#sklearn.tree.DecisionTreeClassifier\n",
    "\n",
    "# Write your code below this line."
   ]
  },
  {
   "cell_type": "code",
   "execution_count": 154,
   "metadata": {},
   "outputs": [],
   "source": [
    "for i in range(0,10):\n",
    "    # Compute test, train datasets using train_test_split()\n",
    "    x_train, x_test, y_train, y_test = train_test_split(Xs[i], ys[i], test_size=1./3, random_state=470)\n",
    "    for j in range(1,16):\n",
    "        # Create decision tree\n",
    "        tree = DecisionTreeClassifier(max_depth=j, random_state=000)\n",
    "        # Fit tree to train split\n",
    "        tree.fit(x_train, y_train)\n",
    "        # Compute accuracies, record results\n",
    "        train_ac[i][j-1] = tree.score(x_train,y_train)\n",
    "        test_ac[i][j-1] = tree.score(x_test,y_test)\n",
    "    "
   ]
  },
  {
   "cell_type": "code",
   "execution_count": 155,
   "metadata": {},
   "outputs": [
    {
     "name": "stdout",
     "output_type": "stream",
     "text": [
      "Train set accuracies\n",
      "0.6800\t0.9600\t0.9700\t0.9800\t0.9900\t1.0000\t1.0000\t1.0000\t1.0000\t1.0000\t1.0000\t1.0000\t1.0000\t1.0000\t1.0000\n",
      "0.2078\t0.3255\t0.4825\t0.6811\t0.7788\t0.8689\t0.9115\t0.9574\t0.9800\t0.9933\t0.9975\t0.9983\t1.0000\t1.0000\t1.0000\n",
      "0.9261\t0.9578\t0.9604\t0.9736\t0.9947\t1.0000\t1.0000\t1.0000\t1.0000\t1.0000\t1.0000\t1.0000\t1.0000\t1.0000\t1.0000\n",
      "0.1835\t0.2749\t0.4272\t0.5799\t0.7099\t0.8207\t0.8817\t0.9263\t0.9560\t0.9691\t0.9789\t0.9838\t0.9899\t0.9927\t0.9946\n",
      "0.8632\t0.9059\t0.9551\t0.9639\t0.9934\t0.9989\t1.0000\t1.0000\t1.0000\t1.0000\t1.0000\t1.0000\t1.0000\t1.0000\t1.0000\n",
      "0.6514\t0.6995\t0.7788\t0.8317\t0.8678\t0.9038\t0.9351\t0.9712\t0.9952\t1.0000\t1.0000\t1.0000\t1.0000\t1.0000\t1.0000\n",
      "0.5004\t0.7494\t0.9587\t0.9752\t0.9857\t0.9880\t0.9910\t0.9917\t0.9917\t0.9940\t0.9962\t0.9962\t0.9970\t0.9985\t0.9992\n",
      "0.4297\t0.4929\t0.5234\t0.5723\t0.6059\t0.6273\t0.6558\t0.6874\t0.7342\t0.7749\t0.8126\t0.8452\t0.8758\t0.9022\t0.9267\n",
      "0.4125\t0.4924\t0.5844\t0.6067\t0.6380\t0.6704\t0.7088\t0.7462\t0.7856\t0.8241\t0.8453\t0.8595\t0.8756\t0.8847\t0.8999\n",
      "0.2223\t0.2554\t0.2676\t0.2888\t0.3175\t0.3488\t0.3908\t0.4429\t0.4964\t0.5632\t0.6318\t0.6972\t0.7633\t0.8186\t0.8667\n",
      "\n",
      "Test set accuracies\n",
      "0.6400\t0.9600\t0.9400\t0.9400\t0.9600\t0.9400\t0.9400\t0.9400\t0.9400\t0.9400\t0.9400\t0.9400\t0.9400\t0.9400\t0.9400\n",
      "0.1786\t0.3022\t0.4674\t0.6561\t0.7362\t0.7746\t0.8030\t0.8531\t0.8497\t0.8648\t0.8514\t0.8614\t0.8598\t0.8598\t0.8598\n",
      "0.9053\t0.9211\t0.9211\t0.9368\t0.9421\t0.9316\t0.9316\t0.9316\t0.9316\t0.9316\t0.9316\t0.9316\t0.9316\t0.9316\t0.9316\n",
      "0.1785\t0.2683\t0.4227\t0.5747\t0.7041\t0.8161\t0.8722\t0.9179\t0.9474\t0.9606\t0.9687\t0.9728\t0.9787\t0.9808\t0.9807\n",
      "0.8319\t0.8843\t0.9520\t0.9563\t0.9782\t0.9847\t0.9825\t0.9825\t0.9825\t0.9825\t0.9825\t0.9825\t0.9825\t0.9825\t0.9825\n",
      "0.6029\t0.6555\t0.6794\t0.7177\t0.7368\t0.7512\t0.7560\t0.7560\t0.7656\t0.7799\t0.7799\t0.7799\t0.7799\t0.7799\t0.7799\n",
      "0.4768\t0.7316\t0.9550\t0.9625\t0.9715\t0.9700\t0.9670\t0.9670\t0.9670\t0.9670\t0.9700\t0.9715\t0.9655\t0.9655\t0.9655\n",
      "0.4216\t0.4236\t0.4562\t0.5255\t0.5418\t0.5356\t0.5051\t0.5275\t0.5193\t0.5214\t0.4990\t0.5112\t0.5010\t0.5071\t0.5031\n",
      "0.3960\t0.4828\t0.5455\t0.5515\t0.5717\t0.5515\t0.5616\t0.5333\t0.5111\t0.5071\t0.4990\t0.5051\t0.5111\t0.5131\t0.5091\n",
      "0.1917\t0.2355\t0.2376\t0.2498\t0.2455\t0.2534\t0.2548\t0.2419\t0.2398\t0.2146\t0.2111\t0.2003\t0.1960\t0.1902\t0.1881\n"
     ]
    }
   ],
   "source": [
    "## DO NOT MODIFY BELOW THIS LINE.\n",
    "\n",
    "print(\"Train set accuracies\")\n",
    "for i in range(10):\n",
    "\tprint(\"\\t\".join(\"{0:.4f}\".format(n) for n in train_ac[i]))\n",
    "\t\n",
    "\n",
    "print(\"\\nTest set accuracies\")\n",
    "for i in range(10):\n",
    "\tprint(\"\\t\".join(\"{0:.4f}\".format(n) for n in test_ac[i]))\n",
    "\n",
    " \n",
    "\n",
    "# Once you run the code, it will generate a 'results.pkl' file. Do not modify the following code.\n",
    "pickle.dump((train_ac, test_ac), open('results.pkl', 'wb'))"
   ]
  }
 ],
 "metadata": {
  "kernelspec": {
   "display_name": "Python 3",
   "language": "python",
   "name": "python3"
  },
  "language_info": {
   "codemirror_mode": {
    "name": "ipython",
    "version": 3
   },
   "file_extension": ".py",
   "mimetype": "text/x-python",
   "name": "python",
   "nbconvert_exporter": "python",
   "pygments_lexer": "ipython3",
   "version": "3.6.6"
  }
 },
 "nbformat": 4,
 "nbformat_minor": 2
}
