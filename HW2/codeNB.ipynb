{
 "cells": [
  {
   "cell_type": "code",
   "execution_count": 25,
   "metadata": {
    "scrolled": false
   },
   "outputs": [
    {
     "name": "stdout",
     "output_type": "stream",
     "text": [
      "Loading datasets...\n",
      "Done.\n"
     ]
    }
   ],
   "source": [
    "import pandas as pd\n",
    "import pickle\n",
    "import numpy as np\n",
    "import sklearn as sk\n",
    "from sklearn.model_selection import train_test_split\n",
    "from sklearn.naive_bayes import BernoulliNB\n",
    "\n",
    "# Load Datasets\n",
    "print(\"Loading datasets...\")\n",
    "Xs = pickle.load(open('binarized_xs.pkl', 'rb'))\n",
    "ys = pickle.load(open('binarized_ys.pkl', 'rb'))\n",
    "print(\"Done.\")"
   ]
  },
  {
   "cell_type": "code",
   "execution_count": 26,
   "metadata": {},
   "outputs": [],
   "source": [
    "# Setup alphas list for BernoulliNB parameter\n",
    "alphas = [10**-7,10**-6,10**-5,10**-4,10**-3,10**-2,10**-1,10**0,10**1,10**2,10**3,10**4,10**5,10**6,10**7]\n",
    "\n",
    "# Setup data structures to hold train, test results\n",
    "train_jll = np.zeros((10, 15))\n",
    "test_jll = np.zeros((10, 15))"
   ]
  },
  {
   "cell_type": "code",
   "execution_count": 27,
   "metadata": {},
   "outputs": [],
   "source": [
    "for i in range(0,10):\n",
    "    idx = 0\n",
    "    # Split datasets\n",
    "    x_train, x_test, y_train, y_test = train_test_split(Xs[i], ys[i], test_size=1./3, random_state=7000)\n",
    "    for j in alphas:\n",
    "        # 1. Create new Bernoulli Naive Bayes model using alpha value\n",
    "        mod = BernoulliNB(alpha=j)\n",
    "        \n",
    "        # Fit the model to the training set\n",
    "        mod.fit(x_train,y_train)\n",
    "        \n",
    "        # Compute the joint log likelihood for the training set, store it train_jll 2d array\n",
    "        total_res = mod._joint_log_likelihood(x_train)\n",
    "        y_train_binary = y_train*1\n",
    "        \n",
    "        entry_val = 0\n",
    "        # Sum-up by matching true labels \n",
    "        for k in range(0,len(y_train)):\n",
    "            entry_val += total_res[k][y_train_binary[k]]\n",
    "            \n",
    "        # Store result \n",
    "        train_jll[i][idx] = entry_val\n",
    "        \n",
    "        # 2. Compute the joint log likelihood for the testing set, store it test_jll 2d array\n",
    "        \n",
    "        total_res = mod._joint_log_likelihood(x_test)\n",
    "        y_test_binary = y_test*1\n",
    "        \n",
    "        entry_val = 0\n",
    "        # Sum-up by matching true labels \n",
    "        for k in range(0,len(y_test)):\n",
    "            entry_val += total_res[k][y_test_binary[k]]\n",
    "            \n",
    "        test_jll[i][idx] = entry_val\n",
    "        \n",
    "        idx += 1"
   ]
  },
  {
   "cell_type": "code",
   "execution_count": 45,
   "metadata": {},
   "outputs": [
    {
     "data": {
      "text/plain": [
       "array([-230.75872338, -230.75872518, -230.75874318, -230.75892318,\n",
       "       -230.76072326, -230.77873044, -230.95943337, -232.81600595,\n",
       "       -250.93716448, -309.65302051, -337.65431703, -341.55294925,\n",
       "       -341.95831433, -341.99901231, -342.00308373])"
      ]
     },
     "execution_count": 45,
     "metadata": {},
     "output_type": "execute_result"
    }
   ],
   "source": [
    "train_jll[0]"
   ]
  },
  {
   "cell_type": "code",
   "execution_count": 38,
   "metadata": {},
   "outputs": [
    {
     "data": {
      "text/plain": [
       "array([-146.2453248 , -146.24532427, -146.24531903, -146.24526657,\n",
       "       -146.24474208, -146.23950874, -146.18831105, -145.77795049,\n",
       "       -146.13302242, -159.51728609, -168.05695685, -169.30864379,\n",
       "       -169.43955681, -169.45270811, -169.45402384])"
      ]
     },
     "execution_count": 38,
     "metadata": {},
     "output_type": "execute_result"
    }
   ],
   "source": [
    "test_jll[0]"
   ]
  },
  {
   "cell_type": "code",
   "execution_count": 46,
   "metadata": {},
   "outputs": [
    {
     "data": {
      "text/plain": [
       "array([-30521.94500529, -30521.94501609, -30521.94512409, -30521.94620415,\n",
       "       -30521.9570096 , -30522.06555266, -30523.19752504, -30537.75728391,\n",
       "       -30772.12085327, -33672.85167338, -44640.46851842, -50535.07883045,\n",
       "       -51385.41383415, -51474.22736759, -51483.14822976])"
      ]
     },
     "execution_count": 46,
     "metadata": {},
     "output_type": "execute_result"
    }
   ],
   "source": [
    "train_jll[1]"
   ]
  },
  {
   "cell_type": "code",
   "execution_count": 47,
   "metadata": {},
   "outputs": [
    {
     "data": {
      "text/plain": [
       "array([-15298.47888266, -15286.96595729, -15275.45303286, -15263.94011776,\n",
       "       -15252.42730159, -15240.91603058, -15229.47274255, -15222.13522513,\n",
       "       -15326.61042615, -16794.21070488, -22309.90882267, -25266.52363627,\n",
       "       -25692.81046897, -25737.33136898, -25741.80323568])"
      ]
     },
     "execution_count": 47,
     "metadata": {},
     "output_type": "execute_result"
    }
   ],
   "source": [
    "test_jll[1]"
   ]
  },
  {
   "cell_type": "code",
   "execution_count": null,
   "metadata": {},
   "outputs": [],
   "source": []
  },
  {
   "cell_type": "code",
   "execution_count": null,
   "metadata": {},
   "outputs": [],
   "source": []
  },
  {
   "cell_type": "code",
   "execution_count": 59,
   "metadata": {},
   "outputs": [
    {
     "data": {
      "text/plain": [
       "<matplotlib.collections.PathCollection at 0x1a1cd4fb00>"
      ]
     },
     "execution_count": 59,
     "metadata": {},
     "output_type": "execute_result"
    },
    {
     "data": {
      "image/png": "[encoded data removed]",
      "text/plain": [
       "<Figure size 432x288 with 1 Axes>"
      ]
     },
     "metadata": {
      "needs_background": "light"
     },
     "output_type": "display_data"
    }
   ],
   "source": [
    "import matplotlib.pyplot as plt\n",
    "#plt.xlim((10**-7, 1000))\n",
    "plt.scatter(alphas,test_jll[0])"
   ]
  },
  {
   "cell_type": "code",
   "execution_count": 44,
   "metadata": {},
   "outputs": [
    {
     "data": {
      "image/png": "[encoded data removed]",
      "text/plain": [
       "<Figure size 432x288 with 1 Axes>"
      ]
     },
     "metadata": {
      "needs_background": "light"
     },
     "output_type": "display_data"
    }
   ],
   "source": [
    "alphas = np.arange(15)\n",
    "alphas = -7 + alphas\n",
    "\n",
    "import matplotlib.pyplot as plt\n",
    "fig, ax = plt.subplots()\n",
    "ax.plot(alphas, train_jll[0],'r')\n",
    "ax.plot(alphas, 2*test_jll[0])\n",
    "ax.grid()\n",
    "#fig.savefig(\"train.png\")\n",
    "plt.show()"
   ]
  },
  {
   "cell_type": "code",
   "execution_count": null,
   "metadata": {},
   "outputs": [],
   "source": []
  },
  {
   "cell_type": "code",
   "execution_count": 3,
   "metadata": {},
   "outputs": [
    {
     "data": {
      "text/plain": [
       "BernoulliNB(alpha=1e-07, binarize=0.0, class_prior=None, fit_prior=True)"
      ]
     },
     "execution_count": 3,
     "metadata": {},
     "output_type": "execute_result"
    }
   ],
   "source": [
    "i = 1\n",
    "j = 10**-7\n",
    "x_train, x_test, y_train, y_test = train_test_split(Xs[i], ys[i], test_size=1./3, random_state=7000)\n",
    "mod = BernoulliNB(alpha=j)\n",
    "mod.fit(x_train,y_train)"
   ]
  },
  {
   "cell_type": "code",
   "execution_count": 26,
   "metadata": {},
   "outputs": [
    {
     "data": {
      "text/plain": [
       "array([593., 605.])"
      ]
     },
     "execution_count": 26,
     "metadata": {},
     "output_type": "execute_result"
    }
   ],
   "source": [
    "mod.class_count_"
   ]
  },
  {
   "cell_type": "code",
   "execution_count": 36,
   "metadata": {},
   "outputs": [
    {
     "data": {
      "text/plain": [
       "array([[-26.24647877, -28.00049448],\n",
       "       [-34.33118547, -28.37155644],\n",
       "       [-36.21588723, -33.31546751],\n",
       "       ...,\n",
       "       [-27.39189935, -25.33331189],\n",
       "       [-25.99084541, -27.67481259],\n",
       "       [-20.44545541, -23.11895269]])"
      ]
     },
     "execution_count": 36,
     "metadata": {},
     "output_type": "execute_result"
    }
   ],
   "source": [
    "test = mod._joint_log_likelihood(x_train)\n",
    "test"
   ]
  },
  {
   "cell_type": "code",
   "execution_count": 37,
   "metadata": {},
   "outputs": [
    {
     "data": {
      "text/plain": [
       "array([0, 1, 1, ..., 0, 0, 0])"
      ]
     },
     "execution_count": 37,
     "metadata": {},
     "output_type": "execute_result"
    }
   ],
   "source": [
    "y_train=y_train*1\n",
    "y_train"
   ]
  },
  {
   "cell_type": "code",
   "execution_count": 39,
   "metadata": {},
   "outputs": [
    {
     "data": {
      "text/plain": [
       "array([[-26.24647877, -28.00049448],\n",
       "       [-34.33118547, -28.37155644],\n",
       "       [-36.21588723, -33.31546751],\n",
       "       ...,\n",
       "       [-27.39189935, -25.33331189],\n",
       "       [-25.99084541, -27.67481259],\n",
       "       [-20.44545541, -23.11895269]])"
      ]
     },
     "execution_count": 39,
     "metadata": {},
     "output_type": "execute_result"
    }
   ],
   "source": [
    "test"
   ]
  },
  {
   "cell_type": "code",
   "execution_count": 40,
   "metadata": {},
   "outputs": [],
   "source": [
    "sum = 0\n",
    "for i in range(0,len(y_train)):\n",
    "    sum += test[i][y_train[i]]"
   ]
  },
  {
   "cell_type": "code",
   "execution_count": 41,
   "metadata": {},
   "outputs": [
    {
     "data": {
      "text/plain": [
       "-30521.945005292135"
      ]
     },
     "execution_count": 41,
     "metadata": {},
     "output_type": "execute_result"
    }
   ],
   "source": [
    "sum"
   ]
  }
 ],
 "metadata": {
  "kernelspec": {
   "display_name": "Python 3",
   "language": "python",
   "name": "python3"
  },
  "language_info": {
   "codemirror_mode": {
    "name": "ipython",
    "version": 3
   },
   "file_extension": ".py",
   "mimetype": "text/x-python",
   "name": "python",
   "nbconvert_exporter": "python",
   "pygments_lexer": "ipython3",
   "version": "3.6.6"
  }
 },
 "nbformat": 4,
 "nbformat_minor": 2
}
